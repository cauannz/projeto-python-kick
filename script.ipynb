{
 "cells": [
  {
   "cell_type": "code",
   "execution_count": 47,
   "metadata": {},
   "outputs": [
    {
     "data": {
      "text/html": [
       "<div>\n",
       "<style scoped>\n",
       "    .dataframe tbody tr th:only-of-type {\n",
       "        vertical-align: middle;\n",
       "    }\n",
       "\n",
       "    .dataframe tbody tr th {\n",
       "        vertical-align: top;\n",
       "    }\n",
       "\n",
       "    .dataframe thead th {\n",
       "        text-align: right;\n",
       "    }\n",
       "</style>\n",
       "<table border=\"1\" class=\"dataframe\">\n",
       "  <thead>\n",
       "    <tr style=\"text-align: right;\">\n",
       "      <th></th>\n",
       "      <th>NU_ANO_CENSO</th>\n",
       "      <th>NO_REGIAO</th>\n",
       "      <th>CO_REGIAO</th>\n",
       "      <th>NO_UF</th>\n",
       "      <th>SG_UF</th>\n",
       "      <th>CO_UF</th>\n",
       "      <th>NO_MUNICIPIO</th>\n",
       "      <th>CO_MUNICIPIO</th>\n",
       "      <th>IN_CAPITAL</th>\n",
       "      <th>TP_ORGANIZACAO_ACADEMICA</th>\n",
       "      <th>...</th>\n",
       "      <th>MAT_APOIO_SOCIAL</th>\n",
       "      <th>CONC_APOIO_SOCIAL</th>\n",
       "      <th>ATIV_EXTRACURRICULAR</th>\n",
       "      <th>ING_ATIV_EXTRACURRICULAR</th>\n",
       "      <th>MAT_ATIV_EXTRACURRICULAR</th>\n",
       "      <th>CONC_ATIV_EXTRACURRICULAR</th>\n",
       "      <th>MOB_ACADEMICA</th>\n",
       "      <th>ING_MOB_ACADEMICA</th>\n",
       "      <th>MAT_MOB_ACADEMICA</th>\n",
       "      <th>CONC_MOB_ACADEMICA</th>\n",
       "    </tr>\n",
       "  </thead>\n",
       "  <tbody>\n",
       "    <tr>\n",
       "      <th>0</th>\n",
       "      <td>2020</td>\n",
       "      <td>Norte</td>\n",
       "      <td>1</td>\n",
       "      <td>Rondônia</td>\n",
       "      <td>RO</td>\n",
       "      <td>11</td>\n",
       "      <td>Alta Floresta D'Oeste</td>\n",
       "      <td>1100015.0</td>\n",
       "      <td>0.0</td>\n",
       "      <td>1</td>\n",
       "      <td>...</td>\n",
       "      <td>0</td>\n",
       "      <td>0</td>\n",
       "      <td>0</td>\n",
       "      <td>0</td>\n",
       "      <td>0</td>\n",
       "      <td>0</td>\n",
       "      <td>0</td>\n",
       "      <td>0</td>\n",
       "      <td>0</td>\n",
       "      <td>0</td>\n",
       "    </tr>\n",
       "    <tr>\n",
       "      <th>1</th>\n",
       "      <td>2020</td>\n",
       "      <td>Norte</td>\n",
       "      <td>1</td>\n",
       "      <td>Rondônia</td>\n",
       "      <td>RO</td>\n",
       "      <td>11</td>\n",
       "      <td>Alta Floresta D'Oeste</td>\n",
       "      <td>1100015.0</td>\n",
       "      <td>0.0</td>\n",
       "      <td>1</td>\n",
       "      <td>...</td>\n",
       "      <td>0</td>\n",
       "      <td>0</td>\n",
       "      <td>0</td>\n",
       "      <td>0</td>\n",
       "      <td>0</td>\n",
       "      <td>0</td>\n",
       "      <td>0</td>\n",
       "      <td>0</td>\n",
       "      <td>0</td>\n",
       "      <td>0</td>\n",
       "    </tr>\n",
       "    <tr>\n",
       "      <th>2</th>\n",
       "      <td>2020</td>\n",
       "      <td>Norte</td>\n",
       "      <td>1</td>\n",
       "      <td>Rondônia</td>\n",
       "      <td>RO</td>\n",
       "      <td>11</td>\n",
       "      <td>Alta Floresta D'Oeste</td>\n",
       "      <td>1100015.0</td>\n",
       "      <td>0.0</td>\n",
       "      <td>1</td>\n",
       "      <td>...</td>\n",
       "      <td>0</td>\n",
       "      <td>0</td>\n",
       "      <td>0</td>\n",
       "      <td>0</td>\n",
       "      <td>0</td>\n",
       "      <td>0</td>\n",
       "      <td>0</td>\n",
       "      <td>0</td>\n",
       "      <td>0</td>\n",
       "      <td>0</td>\n",
       "    </tr>\n",
       "    <tr>\n",
       "      <th>3</th>\n",
       "      <td>2020</td>\n",
       "      <td>Norte</td>\n",
       "      <td>1</td>\n",
       "      <td>Rondônia</td>\n",
       "      <td>RO</td>\n",
       "      <td>11</td>\n",
       "      <td>Alta Floresta D'Oeste</td>\n",
       "      <td>1100015.0</td>\n",
       "      <td>0.0</td>\n",
       "      <td>1</td>\n",
       "      <td>...</td>\n",
       "      <td>0</td>\n",
       "      <td>0</td>\n",
       "      <td>0</td>\n",
       "      <td>0</td>\n",
       "      <td>0</td>\n",
       "      <td>0</td>\n",
       "      <td>0</td>\n",
       "      <td>0</td>\n",
       "      <td>0</td>\n",
       "      <td>0</td>\n",
       "    </tr>\n",
       "    <tr>\n",
       "      <th>4</th>\n",
       "      <td>2020</td>\n",
       "      <td>Norte</td>\n",
       "      <td>1</td>\n",
       "      <td>Rondônia</td>\n",
       "      <td>RO</td>\n",
       "      <td>11</td>\n",
       "      <td>Alta Floresta D'Oeste</td>\n",
       "      <td>1100015.0</td>\n",
       "      <td>0.0</td>\n",
       "      <td>1</td>\n",
       "      <td>...</td>\n",
       "      <td>0</td>\n",
       "      <td>0</td>\n",
       "      <td>0</td>\n",
       "      <td>0</td>\n",
       "      <td>0</td>\n",
       "      <td>0</td>\n",
       "      <td>0</td>\n",
       "      <td>0</td>\n",
       "      <td>0</td>\n",
       "      <td>0</td>\n",
       "    </tr>\n",
       "  </tbody>\n",
       "</table>\n",
       "<p>5 rows × 192 columns</p>\n",
       "</div>"
      ],
      "text/plain": [
       "   NU_ANO_CENSO NO_REGIAO  CO_REGIAO     NO_UF SG_UF  CO_UF  \\\n",
       "0          2020     Norte          1  Rondônia    RO     11   \n",
       "1          2020     Norte          1  Rondônia    RO     11   \n",
       "2          2020     Norte          1  Rondônia    RO     11   \n",
       "3          2020     Norte          1  Rondônia    RO     11   \n",
       "4          2020     Norte          1  Rondônia    RO     11   \n",
       "\n",
       "            NO_MUNICIPIO  CO_MUNICIPIO  IN_CAPITAL  TP_ORGANIZACAO_ACADEMICA  \\\n",
       "0  Alta Floresta D'Oeste     1100015.0         0.0                         1   \n",
       "1  Alta Floresta D'Oeste     1100015.0         0.0                         1   \n",
       "2  Alta Floresta D'Oeste     1100015.0         0.0                         1   \n",
       "3  Alta Floresta D'Oeste     1100015.0         0.0                         1   \n",
       "4  Alta Floresta D'Oeste     1100015.0         0.0                         1   \n",
       "\n",
       "   ...  MAT_APOIO_SOCIAL  CONC_APOIO_SOCIAL  ATIV_EXTRACURRICULAR  \\\n",
       "0  ...                 0                  0                     0   \n",
       "1  ...                 0                  0                     0   \n",
       "2  ...                 0                  0                     0   \n",
       "3  ...                 0                  0                     0   \n",
       "4  ...                 0                  0                     0   \n",
       "\n",
       "  ING_ATIV_EXTRACURRICULAR MAT_ATIV_EXTRACURRICULAR  \\\n",
       "0                        0                        0   \n",
       "1                        0                        0   \n",
       "2                        0                        0   \n",
       "3                        0                        0   \n",
       "4                        0                        0   \n",
       "\n",
       "   CONC_ATIV_EXTRACURRICULAR MOB_ACADEMICA  ING_MOB_ACADEMICA  \\\n",
       "0                          0             0                  0   \n",
       "1                          0             0                  0   \n",
       "2                          0             0                  0   \n",
       "3                          0             0                  0   \n",
       "4                          0             0                  0   \n",
       "\n",
       "  MAT_MOB_ACADEMICA  CONC_MOB_ACADEMICA  \n",
       "0                 0                   0  \n",
       "1                 0                   0  \n",
       "2                 0                   0  \n",
       "3                 0                   0  \n",
       "4                 0                   0  \n",
       "\n",
       "[5 rows x 192 columns]"
      ]
     },
     "metadata": {},
     "output_type": "display_data"
    }
   ],
   "source": [
    "import pandas as pd\n",
    "from matplotlib import pyplot as plt\n",
    "import os\n",
    "\n",
    "df_cursos = pd.read_csv(os.path.join(os.getcwd(), \"microdados\", \"CADASTRO_CURSOS_2020.csv\"), encoding='ISO-8859-1', sep=';', low_memory=False)\n",
    "\n",
    "display(df_cursos.head(5))"
   ]
  },
  {
   "cell_type": "markdown",
   "metadata": {},
   "source": [
    "Mostrar áreas de conhecimentos nos dados"
   ]
  },
  {
   "cell_type": "code",
   "execution_count": 48,
   "metadata": {},
   "outputs": [
    {
     "data": {
      "text/plain": [
       "array(['Educação', 'Negócios, administração e direito',\n",
       "       'Computação e Tecnologias da Informação e Comunicação (TIC)',\n",
       "       'Saúde e bem-estar', 'Serviços',\n",
       "       'Engenharia, produção e construção', 'Artes e humanidades',\n",
       "       'Agricultura, silvicultura, pesca e veterinária',\n",
       "       'Ciências sociais, comunicação e informação',\n",
       "       'Ciências naturais, matemática e estatística', 'Programas básicos'],\n",
       "      dtype=object)"
      ]
     },
     "execution_count": 48,
     "metadata": {},
     "output_type": "execute_result"
    }
   ],
   "source": [
    "df_cursos.NO_CINE_AREA_GERAL.unique()"
   ]
  },
  {
   "cell_type": "code",
   "execution_count": 49,
   "metadata": {},
   "outputs": [
    {
     "data": {
      "text/plain": [
       "array(['Educação', 'Negócios e administração',\n",
       "       'Computação e Tecnologias da Informação e Comunicação (TIC)',\n",
       "       'Saúde', 'Serviços de segurança', 'Direito',\n",
       "       'Engenharia e profissões correlatas', 'Serviços pessoais',\n",
       "       'Humanidades (exceto línguas)', 'Produção e processamento',\n",
       "       'Agricultura', 'Bem-estar', 'Comunicação e informação', 'Artes',\n",
       "       'Ciências sociais e comportamentais',\n",
       "       'Ciências biológicas e correlatas', 'Ciências físicas',\n",
       "       'Higiene e serviços de saúde ocupacional',\n",
       "       'Arquitetura e construção',\n",
       "       'Programas interdisciplinares abrangendo ciências naturais, matemática e estatística',\n",
       "       'Matemática e estatística', 'Serviços de transporte', 'Línguas',\n",
       "       'Veterinária', 'Programas interdisciplinares abrangendo educação',\n",
       "       'Programas interdisciplinares abrangendo negócios, administração e direito',\n",
       "       'Silvicultura',\n",
       "       'Programas interdisciplinares abrangendo computação e Tecnologias da Informação e Comunicação (TIC)',\n",
       "       'Pesca',\n",
       "       'Programas interdisciplinares abrangendo ciências sociais, comunicação e informação',\n",
       "       'Programas interdisciplinares abrangendo saúde e bem-estar',\n",
       "       'Programas básicos',\n",
       "       'Programas interdisciplinares abrangendo agricultura, silvicultura, pesca e veterinária',\n",
       "       'Meio ambiente',\n",
       "       'Programas interdisciplinares abrangendo artes e humanidades',\n",
       "       'Programas interdisciplinares abrangendo engenharia, produção e construção'],\n",
       "      dtype=object)"
      ]
     },
     "execution_count": 49,
     "metadata": {},
     "output_type": "execute_result"
    }
   ],
   "source": [
    "df_cursos.NO_CINE_AREA_ESPECIFICA.unique()"
   ]
  },
  {
   "cell_type": "markdown",
   "metadata": {},
   "source": [
    "Usando a coluna \"Nome da Área Geral\" para filtrar somente os cursos de \"engenharia\" na área de **Engenharia, Produção e Construção**."
   ]
  },
  {
   "cell_type": "code",
   "execution_count": 50,
   "metadata": {},
   "outputs": [],
   "source": [
    "df_cursos_eng = df_cursos[df_cursos[\"NO_CINE_AREA_GERAL\"] == 'Engenharia, produção e construção'] "
   ]
  },
  {
   "cell_type": "code",
   "execution_count": 51,
   "metadata": {},
   "outputs": [
    {
     "data": {
      "text/plain": [
       "array(['Engenharia e profissões correlatas', 'Produção e processamento',\n",
       "       'Arquitetura e construção',\n",
       "       'Programas interdisciplinares abrangendo engenharia, produção e construção'],\n",
       "      dtype=object)"
      ]
     },
     "execution_count": 51,
     "metadata": {},
     "output_type": "execute_result"
    }
   ],
   "source": [
    "df_cursos_eng.NO_CINE_AREA_ESPECIFICA.unique()"
   ]
  },
  {
   "cell_type": "markdown",
   "metadata": {},
   "source": [
    "Agrupar a coluna \"NO_CINE_AREA_ESPECIFICA\" com a coluna \"NO_UF\" para organizar os dados de acordo com os estados."
   ]
  },
  {
   "cell_type": "code",
   "execution_count": 52,
   "metadata": {},
   "outputs": [
    {
     "data": {
      "text/plain": [
       "NO_REGIAO\n",
       "Centro-Oeste     7644\n",
       "Distância        1484\n",
       "Exterior           55\n",
       "Nordeste        16804\n",
       "Norte            7331\n",
       "Sudeste         33567\n",
       "Sul             18520\n",
       "Name: NO_CINE_AREA_ESPECIFICA, dtype: int64"
      ]
     },
     "metadata": {},
     "output_type": "display_data"
    }
   ],
   "source": [
    "# Primeiro, filtre os cursos de \"Educação\"\n",
    "df_cursos_educacao = df_cursos[df_cursos[\"NO_CINE_AREA_ESPECIFICA\"].str.contains('Educação')]\n",
    "\n",
    "# Em seguida, agrupe os dados por região (NO_REGIAO)\n",
    "contagem_cursos_por_regiao = df_cursos_educacao.groupby('NO_REGIAO')['NO_CINE_AREA_ESPECIFICA'].count()\n",
    "\n",
    "display(contagem_cursos_por_regiao)"
   ]
  }
 ],
 "metadata": {
  "kernelspec": {
   "display_name": "Python 3",
   "language": "python",
   "name": "python3"
  },
  "language_info": {
   "codemirror_mode": {
    "name": "ipython",
    "version": 3
   },
   "file_extension": ".py",
   "mimetype": "text/x-python",
   "name": "python",
   "nbconvert_exporter": "python",
   "pygments_lexer": "ipython3",
   "version": "3.11.5"
  }
 },
 "nbformat": 4,
 "nbformat_minor": 2
}
